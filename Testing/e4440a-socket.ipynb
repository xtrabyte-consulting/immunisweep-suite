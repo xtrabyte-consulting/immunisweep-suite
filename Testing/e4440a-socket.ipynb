{
 "cells": [
  {
   "cell_type": "code",
   "execution_count": 1,
   "metadata": {},
   "outputs": [],
   "source": [
    "import time\n",
    "import socket"
   ]
  },
  {
   "cell_type": "code",
   "execution_count": 3,
   "metadata": {},
   "outputs": [],
   "source": [
    "sock = socket.socket(socket.AF_INET, socket.SOCK_STREAM)\n",
    "sock.settimeout(1)\n",
    "sock.connect(('192.168.100.3', 5025))"
   ]
  },
  {
   "cell_type": "code",
   "execution_count": 7,
   "metadata": {},
   "outputs": [],
   "source": [
    "def send_command(command):\n",
    "        \"\"\"\n",
    "        Send a SCPI command (without waiting for a response).\n",
    "        \n",
    "        :param command: A string containing the SCPI command.\n",
    "        \"\"\"\n",
    "        full_command = command + \"\\n\"\n",
    "        sock.sendall(full_command.encode('ascii'))"
   ]
  },
  {
   "cell_type": "code",
   "execution_count": 8,
   "metadata": {},
   "outputs": [],
   "source": [
    "def query(command, buffer_size=1024):\n",
    "        \"\"\"\n",
    "        Send a SCPI query and return the response.\n",
    "        \n",
    "        :param command: A string containing the SCPI query.\n",
    "        :param buffer_size: The maximum number of bytes to read.\n",
    "        :return: The response string.\n",
    "        \"\"\"\n",
    "        send_command(command)\n",
    "        # A short delay may be necessary for the instrument to respond.\n",
    "        time.sleep(0.1)\n",
    "        data = sock.recv(buffer_size)\n",
    "        return data.decode('ascii').strip()"
   ]
  },
  {
   "cell_type": "code",
   "execution_count": 9,
   "metadata": {},
   "outputs": [
    {
     "name": "stdout",
     "output_type": "stream",
     "text": [
      "Agilent Technologies, E4440A, MY48250511, A.11.16\n"
     ]
    }
   ],
   "source": [
    "print(query(\"*IDN?\"))"
   ]
  },
  {
   "cell_type": "code",
   "execution_count": 10,
   "metadata": {},
   "outputs": [
    {
     "name": "stdout",
     "output_type": "stream",
     "text": [
      "V\n"
     ]
    }
   ],
   "source": [
    "send_command(\"UNIT:POW V\")\n",
    "print(query(\"UNIT:POW?\"))"
   ]
  },
  {
   "cell_type": "code",
   "execution_count": 21,
   "metadata": {},
   "outputs": [
    {
     "name": "stdout",
     "output_type": "stream",
     "text": [
      "+1.5000000000000000E+005\n",
      "+8.0000000000000000E+007\n"
     ]
    }
   ],
   "source": [
    "send_command(\"FREQ:STAR 150000\")\n",
    "print(query(\"FREQ:STAR?\"))\n",
    "send_command(\"FREQ:STOP 80000000\")\n",
    "print(query(\"FREQ:STOP?\"))"
   ]
  },
  {
   "cell_type": "code",
   "execution_count": 16,
   "metadata": {},
   "outputs": [
    {
     "name": "stdout",
     "output_type": "stream",
     "text": [
      "+1.0000000000000000E+004\n"
     ]
    }
   ],
   "source": [
    "send_command(\"FREQ:SPAN 10000\")\n",
    "print(query(\"FREQ:SPAN?\"))"
   ]
  },
  {
   "cell_type": "code",
   "execution_count": 17,
   "metadata": {},
   "outputs": [
    {
     "name": "stdout",
     "output_type": "stream",
     "text": [
      "+2.0000000000000000E+005\n",
      "+1.9500000000000000E+005\n",
      "+2.0500000000000000E+005\n"
     ]
    }
   ],
   "source": [
    "send_command(\"FREQ:CENT 200000\")\n",
    "print(query(\"FREQ:CENT?\"))\n",
    "print(query(\"FREQ:STAR?\"))\n",
    "print(query(\"FREQ:STOP?\"))"
   ]
  },
  {
   "cell_type": "code",
   "execution_count": 18,
   "metadata": {},
   "outputs": [
    {
     "name": "stdout",
     "output_type": "stream",
     "text": [
      "+1.14970E-07\n",
      "+9.9998000000000000E+006\n"
     ]
    }
   ],
   "source": [
    "send_command(\"CALC:MARK1:MODE POS\")\n",
    "print(query(\"CALC:MARK1:Y?\"))\n",
    "print(query(\"CALC:MARK1:X?\"))"
   ]
  },
  {
   "cell_type": "code",
   "execution_count": 22,
   "metadata": {},
   "outputs": [
    {
     "name": "stdout",
     "output_type": "stream",
     "text": [
      "+1.5000000000000000E+006\n",
      "+1.83436E-05\n"
     ]
    }
   ],
   "source": [
    "send_command(\"CALC:MARK1:X 1500000\")\n",
    "print(query(\"CALC:MARK1:X?\"))\n",
    "print(query(\"CALC:MARK1:Y?\"))"
   ]
  }
 ],
 "metadata": {
  "kernelspec": {
   "display_name": "immunisweep_env",
   "language": "python",
   "name": "python3"
  },
  "language_info": {
   "codemirror_mode": {
    "name": "ipython",
    "version": 3
   },
   "file_extension": ".py",
   "mimetype": "text/x-python",
   "name": "python",
   "nbconvert_exporter": "python",
   "pygments_lexer": "ipython3",
   "version": "3.13.1"
  }
 },
 "nbformat": 4,
 "nbformat_minor": 2
}
